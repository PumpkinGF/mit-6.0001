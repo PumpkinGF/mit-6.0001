{
 "cells": [
  {
   "cell_type": "markdown",
   "id": "2e7c7868",
   "metadata": {},
   "source": [
    "Problem Set 2, hangman.py\n",
    "Name: \n",
    "Collaborators:\n",
    "Time spent:"
   ]
  },
  {
   "cell_type": "code",
   "execution_count": 52,
   "id": "7dcd49a6",
   "metadata": {},
   "outputs": [],
   "source": [
    "# Hangman Game\n",
    "# -----------------------------------\n",
    "# Helper code\n",
    "# You don't need to understand this helper code,\n",
    "# but you will have to know how to use the functions\n",
    "# (so be sure to read the docstrings!)\n",
    "import random\n",
    "import string"
   ]
  },
  {
   "cell_type": "code",
   "execution_count": 53,
   "id": "e48c6741",
   "metadata": {},
   "outputs": [],
   "source": [
    "WORDLIST_FILENAME = \"words.txt\""
   ]
  },
  {
   "cell_type": "code",
   "execution_count": 54,
   "id": "2c3db6b6",
   "metadata": {},
   "outputs": [],
   "source": [
    "def load_words():\n",
    "    \"\"\"\n",
    "    Returns a list of valid words. Words are strings of lowercase letters.\n",
    "    \n",
    "    Depending on the size of the word list, this function may\n",
    "    take a while to finish.\n",
    "    \"\"\"\n",
    "    print(\"Loading word list from file...\")\n",
    "    # inFile: file\n",
    "    inFile = open(WORDLIST_FILENAME, 'r')\n",
    "    # line: string\n",
    "    line = inFile.readline()\n",
    "    # wordlist: list of strings\n",
    "    wordlist = line.split()\n",
    "    print(\"  \", len(wordlist), \"words loaded.\")\n",
    "    return wordlist"
   ]
  },
  {
   "cell_type": "code",
   "execution_count": null,
   "id": "75837fc6",
   "metadata": {},
   "outputs": [],
   "source": []
  },
  {
   "cell_type": "code",
   "execution_count": 55,
   "id": "51d3f4aa",
   "metadata": {
    "lines_to_next_cell": 1
   },
   "outputs": [],
   "source": [
    "def choose_word(wordlist):\n",
    "    \"\"\"\n",
    "    wordlist (list): list of words (strings)\n",
    "    \n",
    "    Returns a word from wordlist at random\n",
    "    \"\"\"\n",
    "    return random.choice(wordlist)"
   ]
  },
  {
   "cell_type": "markdown",
   "id": "917728eb",
   "metadata": {},
   "source": [
    "end of helper code"
   ]
  },
  {
   "cell_type": "markdown",
   "id": "3acdbabb",
   "metadata": {},
   "source": [
    "-----------------------------------"
   ]
  },
  {
   "cell_type": "code",
   "execution_count": 56,
   "id": "4236e56e",
   "metadata": {},
   "outputs": [
    {
     "name": "stdout",
     "output_type": "stream",
     "text": [
      "Loading word list from file...\n",
      "   55900 words loaded.\n"
     ]
    }
   ],
   "source": [
    "# Load the list of words into the variable wordlist\n",
    "# so that it can be accessed from anywhere in the program\n",
    "wordlist = load_words()"
   ]
  },
  {
   "cell_type": "code",
   "execution_count": 59,
   "id": "5d66782b",
   "metadata": {},
   "outputs": [],
   "source": [
    "def is_word_guessed(secret_word, letters_guessed):\n",
    "    '''\n",
    "    secret_word: string, the word the user is guessing; assumes all letters are\n",
    "      lowercase\n",
    "    letters_guessed: list (of letters), which letters have been guessed so far;\n",
    "      assumes that all letters are lowercase\n",
    "    returns: boolean, True if all the letters of secret_word are in letters_guessed;\n",
    "      False otherwise\n",
    "    '''\n",
    "    for char in secret_word:\n",
    "        if char not in letters_guessed:\n",
    "            return False # 只要有一个不在letters_guessed里，false\n",
    "    return True # 全部true才是true，否则就return if圈（一个def只return最早一个）"
   ]
  },
  {
   "cell_type": "code",
   "execution_count": 60,
   "id": "d995c4f8",
   "metadata": {},
   "outputs": [
    {
     "name": "stdout",
     "output_type": "stream",
     "text": [
      "True\n"
     ]
    }
   ],
   "source": [
    "# test\n",
    "secret_word = 'apple'\n",
    "letters_guessed = ['e', 'a', 'p', 'p', 'l', 't']\n",
    "print(is_word_guessed(secret_word, letters_guessed))"
   ]
  },
  {
   "cell_type": "code",
   "execution_count": 61,
   "id": "3d247599",
   "metadata": {},
   "outputs": [
    {
     "data": {
      "text/plain": [
       "False"
      ]
     },
     "execution_count": 61,
     "metadata": {},
     "output_type": "execute_result"
    }
   ],
   "source": [
    "# test\n",
    "secret_word = \"example\"\n",
    "letters_guessed = ['e', 'x', 'a', 'n', 'p', 'l']\n",
    "is_word_guessed(secret_word, letters_guessed)"
   ]
  },
  {
   "cell_type": "code",
   "execution_count": 62,
   "id": "674d1f9d",
   "metadata": {},
   "outputs": [],
   "source": [
    "def get_guessed_word(secret_word, letters_guessed):\n",
    "    '''\n",
    "    secret_word: string, the word the user is guessing\n",
    "    letters_guessed: list (of letters), which letters have been guessed so far\n",
    "    returns: string, comprised of letters, underscores (_), and spaces that represents\n",
    "      which letters in secret_word have been guessed so far.\n",
    "    '''\n",
    "    secret_word = list(secret_word) # string is immutable\n",
    "    for i, char in enumerate(secret_word): # tracks both index and value\n",
    "        if char not in letters_guessed:\n",
    "            secret_word[i] = '_ '\n",
    "    if secret_word[-1] == '_ ':\n",
    "        secret_word[-1] = '_'\n",
    "    return ''.join(secret_word)            "
   ]
  },
  {
   "cell_type": "code",
   "execution_count": 32,
   "id": "8fe10076",
   "metadata": {},
   "outputs": [
    {
     "name": "stdout",
     "output_type": "stream",
     "text": [
      "_ pp_ e\n"
     ]
    }
   ],
   "source": [
    "secret_word = 'apple'\n",
    "letters_guessed = ['e', 'i', 'k', 'p', 'r', 's']\n",
    "print(get_guessed_word(secret_word, letters_guessed) )"
   ]
  },
  {
   "cell_type": "code",
   "execution_count": 63,
   "id": "64d89b21",
   "metadata": {},
   "outputs": [],
   "source": [
    "def get_available_letters(letters_guessed):\n",
    "    '''\n",
    "    letters_guessed: list (of letters), which letters have been guessed so far\n",
    "    returns: string (of letters), comprised of letters that represents which letters have not\n",
    "      yet been guessed.\n",
    "    '''\n",
    "    not_guessed = []\n",
    "    for char in string.ascii_lowercase:\n",
    "        if char not in letters_guessed:\n",
    "            not_guessed.append(char)\n",
    "    return ''.join(not_guessed)"
   ]
  },
  {
   "cell_type": "code",
   "execution_count": 37,
   "id": "0cc4777a",
   "metadata": {},
   "outputs": [
    {
     "name": "stdout",
     "output_type": "stream",
     "text": [
      "abcdfghjlmnoqtuvwxyz\n"
     ]
    }
   ],
   "source": [
    "letters_guessed = ['e', 'i', 'k', 'p', 'r', 's']\n",
    "print(get_available_letters(letters_guessed))"
   ]
  },
  {
   "cell_type": "code",
   "execution_count": 93,
   "id": "dca00dfc",
   "metadata": {},
   "outputs": [],
   "source": [
    "def hangman(secret_word):\n",
    "    '''\n",
    "    secret_word: string, the secret word to guess.\n",
    "    \n",
    "    Starts up an interactive game of Hangman.\n",
    "    \n",
    "    * At the start of the game, let the user know how many \n",
    "      letters the secret_word contains and how many guesses s/he starts with.\n",
    "      \n",
    "    * The user should start with 6 guesses\n",
    "\n",
    "    * Before each round, you should display to the user how many guesses\n",
    "      s/he has left and the letters that the user has not yet guessed.\n",
    "    \n",
    "    * Ask the user to supply one guess per round. Remember to make\n",
    "      sure that the user puts in a letter!\n",
    "    \n",
    "    * The user should receive feedback immediately after each guess \n",
    "      about whether their guess appears in the computer's word.\n",
    "\n",
    "    * After each guess, you should display to the user the \n",
    "      partially guessed word so far.\n",
    "    \n",
    "    Follows the other limitations detailed in the problem write-up.\n",
    "    '''\n",
    "    # Fixed data\n",
    "    guesses_remaining = 6\n",
    "    warnings_remaining = 3\n",
    "    secret_word_len = len(secret_word)\n",
    "    letters_guessed = []\n",
    "    \n",
    "    # Welcome\n",
    "    print('Welcome to the game Hangman!')\n",
    "    print(f\"I am thinking of a word that is {secret_word_len} letters long.\")\n",
    "    print('-------------')\n",
    "    print(f\"You have {guesses_remaining} guesses left.\")\n",
    "    print(f\"Available letters: {get_available_letters(letters_guessed)}\")\n",
    "    \n",
    "\n",
    "    # Conditions and actions\n",
    "    while guesses_remaining > 0: # guess > 0\n",
    "        letter_guess = str(input('Please guess a letter: ')).lower()\n",
    "        if not str.isalpha(letter_guess): # non letter\n",
    "            if warnings_remaining > 0: # warning > 0, warning - 1, give error message\n",
    "                warnings_remaining -= 1\n",
    "                print(f\"Oops! That is not a valid letter. You have {warnings_remaining} warnings left: {get_guessed_word(secret_word, letters_guessed)}\")\n",
    "            else: # warning = 0, guess - 1\n",
    "                guesses_remaining -= 1\n",
    "                print(f\"Oops! This is not a valid letter. You have no warnings left so you lose one guess: {get_guessed_word(secret_word, letters_guessed)}\")\n",
    "        else: # letter\n",
    "            if letter_guess in letters_guessed: # guessed\n",
    "                if warnings_remaining > 0: # warning > 0, warning - 1\n",
    "                    warnings_remaining -= 1\n",
    "                    print(f\"Oops! You've already guessed that letter. You have {warnings_remaining} warnings left: {get_guessed_word(secret_word, letters_guessed)}\")\n",
    "                else: # warning = 0, guess - 1\n",
    "                    guesses_remaining -= 1\n",
    "                    print(f\"Oops! You've already guessed that letter. You have no warnings left so you lose one guess: {get_guessed_word(secret_word, letters_guessed)}\")\n",
    "            else: # not guessed\n",
    "                if letter_guess in secret_word: # in secret_word\n",
    "                    letters_guessed.append(letter_guess)\n",
    "                    print(f\"Good guess: {get_guessed_word(secret_word, letters_guessed)}\")\n",
    "                    if all(letter in letters_guessed for letter in secret_word): # the word is guessed, congratulations, end of game\n",
    "                        # 注意这俩可能不相等，因为letters_guessed里没有重复字母\n",
    "                        # if ''.join(letters_guessed) == secret_word 错\n",
    "                        print('Congratulations, you won!')\n",
    "                        print(f\"Your total score for this game is: {guesses_remaining * len(set(secret_word))}\")\n",
    "                        break\n",
    "                else: # not in secret_word\n",
    "                    letters_guessed.append(letter_guess)\n",
    "                    if letter_guess in 'aeiou': # vowels, guess - 2\n",
    "                        guesses_remaining -= 2\n",
    "                        print(f\"Oops! That letter is not in my word: {get_guessed_word(secret_word, letters_guessed)}\")\n",
    "                    else : # consonants, guess - 1\n",
    "                        guesses_remaining -= 1\n",
    "                        print(f\"Oops! That letter is not in my word: {get_guessed_word(secret_word, letters_guessed)}\")\n",
    "        print('------------')\n",
    "        print(f\"You have {guesses_remaining} guesses left.\")\n",
    "        print(f\"Available letters: {get_available_letters(letters_guessed)}\")\n",
    "    else: # guess < = 0, game over\n",
    "        print(f\"Sorry, you ran out of guesses. The word was {secret_word}.\")"
   ]
  },
  {
   "cell_type": "code",
   "execution_count": 94,
   "id": "90ba616e",
   "metadata": {},
   "outputs": [],
   "source": [
    "secret_word = 'box'"
   ]
  },
  {
   "cell_type": "code",
   "execution_count": 91,
   "id": "605b2724",
   "metadata": {},
   "outputs": [
    {
     "name": "stdout",
     "output_type": "stream",
     "text": [
      "box\n"
     ]
    }
   ],
   "source": [
    "print(secret_word)"
   ]
  },
  {
   "cell_type": "code",
   "execution_count": 95,
   "id": "7a237dac",
   "metadata": {},
   "outputs": [
    {
     "name": "stdout",
     "output_type": "stream",
     "text": [
      "Welcome to the game Hangman!\n",
      "I am thinking of a word that is 3 letters long.\n",
      "-------------\n",
      "You have 6 guesses left.\n",
      "Available letters: abcdefghijklmnopqrstuvwxyz\n",
      "Please guess a letter: b\n",
      "Good guess: b_ _\n",
      "------------\n",
      "You have 6 guesses left.\n",
      "Available letters: acdefghijklmnopqrstuvwxyz\n",
      "Please guess a letter: o\n",
      "Good guess: bo_\n",
      "------------\n",
      "You have 6 guesses left.\n",
      "Available letters: acdefghijklmnpqrstuvwxyz\n",
      "Please guess a letter: x\n",
      "Good guess: box\n",
      "Congratulations, you won!\n",
      "Your total score for this game is: 18\n"
     ]
    }
   ],
   "source": [
    "hangman(secret_word)"
   ]
  },
  {
   "cell_type": "code",
   "execution_count": null,
   "id": "c8d6b9ed",
   "metadata": {},
   "outputs": [],
   "source": [
    "# Structure\n",
    "    while # guess > 0\n",
    "        if : # non letter\n",
    "            if: # warning > 0, warning - 1, give error message\n",
    "            else: # warning = 0, guess - 1\n",
    "        else: # letter\n",
    "            if: # guessed\n",
    "                if: # warning > 0, warning - 1\n",
    "                else: # warning = 0, guess - 1\n",
    "            else: # not guessed\n",
    "                if: # in secret_word\n",
    "                    if: # the word is guessed, congratulations, end of game\n",
    "                if: # not in secret_word\n",
    "                    if: # consonants, guess - 1\n",
    "                    else: # vowels, guess - 2\n",
    "    else: # guess < = 0, game over"
   ]
  },
  {
   "cell_type": "markdown",
   "id": "d2a0daa8",
   "metadata": {
    "lines_to_next_cell": 2
   },
   "source": [
    "When you've completed your hangman function, scroll down to the bottom\n",
    "of the file and uncomment the first two lines to test\n",
    "(hint: you might want to pick your own\n",
    "secret_word while you're doing your own testing)"
   ]
  },
  {
   "cell_type": "markdown",
   "id": "f6758699",
   "metadata": {},
   "source": [
    "-----------------------------------"
   ]
  },
  {
   "cell_type": "code",
   "execution_count": null,
   "id": "f2d4c0cf",
   "metadata": {},
   "outputs": [],
   "source": []
  },
  {
   "cell_type": "code",
   "execution_count": 40,
   "id": "95a6bb7d",
   "metadata": {},
   "outputs": [],
   "source": [
    "def match_with_gaps(my_word, other_word):\n",
    "    '''\n",
    "    my_word: string with _ characters, current guess of secret word\n",
    "    other_word: string, regular English word\n",
    "    returns: boolean, True if all the actual letters of my_word match the \n",
    "        corresponding letters of other_word, or the letter is the special symbol\n",
    "        _ , and my_word and other_word are of the same length;\n",
    "        False otherwise: \n",
    "    '''\n",
    "    # revealed parts the same\n",
    "    # hidden part cannot be any of the revealed part (even if revealed parts the same)\n",
    "    # \"_ \" length == 2\n",
    "    # strip不好用，只去掉最前和最后的空格。用replace\n",
    "    my_word_short = my_word.replace(' ','')\n",
    "    if len(my_word_short) != len(other_word): # if lengths are the same\n",
    "        return False\n",
    "    else:\n",
    "        # 这里是错误答案。测试't_ _ t'知道，第二个t的index还是会返回为0\n",
    "#         for char in my_word_short: # everything in my_word_short\n",
    "#             if char.isalpha(): # is letter\n",
    "#                 if other_word[my_word_short.index(char)] != char: # not the same word at the same location in other_word\n",
    "#                     return False\n",
    "#             else: # is not letter\n",
    "#                 if other_word[my_word_short.index(char)] in my_word_short: # 如果other_word上同位置的字母已经猜出来了，出错\n",
    "#                     return False\n",
    "        for i in range(len(other_word)):\n",
    "            if my_word_short[i].isalpha():\n",
    "                if my_word_short[i] != other_word[i]:\n",
    "                    return False\n",
    "            else:\n",
    "                if other_word[i] in my_word_short:\n",
    "                    return False\n",
    "    return True"
   ]
  },
  {
   "cell_type": "code",
   "execution_count": 42,
   "id": "140ad710",
   "metadata": {},
   "outputs": [
    {
     "name": "stdout",
     "output_type": "stream",
     "text": [
      "t__t\n",
      "0\n",
      "0\n"
     ]
    }
   ],
   "source": [
    "my_word = 't_ _ t'\n",
    "my_word_short = my_word.replace(' ','')\n",
    "print(my_word_short)\n",
    "for char in my_word_short:\n",
    "    if char.isalpha():\n",
    "        print(my_word_short.index(char))"
   ]
  },
  {
   "cell_type": "code",
   "execution_count": 26,
   "id": "7c3d3b26",
   "metadata": {},
   "outputs": [
    {
     "name": "stdout",
     "output_type": "stream",
     "text": [
      "a__le\n"
     ]
    }
   ],
   "source": [
    "print('a_ _ le'.replace(' ',''))"
   ]
  },
  {
   "cell_type": "code",
   "execution_count": 48,
   "id": "22adeb02",
   "metadata": {},
   "outputs": [],
   "source": [
    "def show_possible_matches(my_word):\n",
    "    '''\n",
    "    my_word: string with _ characters, current guess of secret word\n",
    "    returns: nothing, but should print out every word in wordlist that matches my_word\n",
    "             Keep in mind that in hangman when a letter is guessed, all the positions\n",
    "             at which that letter occu\"rs in the secret word are revealed.\n",
    "             Therefore, the hidden letter(_ ) cannot be one of the letters in the word\n",
    "             that has already been revealed.\n",
    "\n",
    "    '''\n",
    "    # 注意returns nothing，print out可能的单词\n",
    "    possible_matches = [] # 判断长度 -> 有无match\n",
    "    for word in wordlist:\n",
    "        if match_with_gaps(my_word, word):\n",
    "            possible_matches.append(word)\n",
    "    if len(possible_matches) > 0: # 存在possible matches\n",
    "        print(' '.join(possible_matches))\n",
    "    else: # 不存在possible matches\n",
    "        print('No matches found')"
   ]
  },
  {
   "cell_type": "code",
   "execution_count": 49,
   "id": "9c118fc6",
   "metadata": {},
   "outputs": [
    {
     "name": "stdout",
     "output_type": "stream",
     "text": [
      "tact tart taut teat tent test text that tilt tint toot tort tout trot tuft twit\n"
     ]
    }
   ],
   "source": [
    "show_possible_matches(\"t_ _ t\")"
   ]
  },
  {
   "cell_type": "code",
   "execution_count": 66,
   "id": "684d9f54",
   "metadata": {},
   "outputs": [],
   "source": [
    "def hangman_with_hints(secret_word):\n",
    "    '''\n",
    "    secret_word: string, the secret word to guess.\n",
    "    \n",
    "    Starts up an interactive game of Hangman.\n",
    "    \n",
    "    * At the start of the game, let the user know how many \n",
    "      letters the secret_word contains and how many guesses s/he starts with.\n",
    "      \n",
    "    * The user should start with 6 guesses\n",
    "    \n",
    "    * Before each round, you should display to the user how many guesses\n",
    "      s/he has left and the letters that the user has not yet guessed.\n",
    "    \n",
    "    * Ask the user to supply one guess per round. Make sure to check that the user guesses a letter\n",
    "      \n",
    "    * The user should receive feedback immediately after each guess \n",
    "      about whether their guess appears in the computer's word.\n",
    "\n",
    "    * After each guess, you should display to the user the \n",
    "      partially guessed word so far.\n",
    "      \n",
    "    * If the guess is the symbol *, print out all words in wordlist that\n",
    "      matches the current guessed word. \n",
    "    \n",
    "    Follows the other limitations detailed in the problem write-up.\n",
    "    '''\n",
    "    # Fixed data\n",
    "    guesses_remaining = 6\n",
    "    warnings_remaining = 3\n",
    "    secret_word_len = len(secret_word)\n",
    "    letters_guessed = []\n",
    "    \n",
    "    # Welcome\n",
    "    print('Welcome to the game Hangman!')\n",
    "    print(f\"I am thinking of a word that is {secret_word_len} letters long.\")\n",
    "    print('-------------')\n",
    "    print(f\"You have {guesses_remaining} guesses left.\")\n",
    "    print(f\"Available letters: {get_available_letters(letters_guessed)}\")\n",
    "    \n",
    "\n",
    "    # Conditions and actions\n",
    "    while guesses_remaining > 0: # guess > 0\n",
    "        letter_guess = str(input('Please guess a letter: ')).lower()\n",
    "        if not str.isalpha(letter_guess): # non letter\n",
    "            if letter_guess == '*': # if asterisk, show possible matches; no change in guesses_remaining\n",
    "                show_possible_matches(get_guessed_word(secret_word, letters_guessed)) # not \"letter_guess\" because \"letter_guess\" is *\n",
    "            elif warnings_remaining > 0: # warning > 0, warning - 1, give error message\n",
    "                warnings_remaining -= 1\n",
    "                print(f\"Oops! That is not a valid letter. You have {warnings_remaining} warnings left: {get_guessed_word(secret_word, letters_guessed)}\")\n",
    "            else: # warning = 0, guess - 1\n",
    "                guesses_remaining -= 1\n",
    "                print(f\"Oops! This is not a valid letter. You have no warnings left so you lose one guess: {get_guessed_word(secret_word, letters_guessed)}\")\n",
    "        else: # letter\n",
    "            if letter_guess in letters_guessed: # guessed\n",
    "                if warnings_remaining > 0: # warning > 0, warning - 1\n",
    "                    warnings_remaining -= 1\n",
    "                    print(f\"Oops! You've already guessed that letter. You have {warnings_remaining} warnings left: {get_guessed_word(secret_word, letters_guessed)}\")\n",
    "                else: # warning = 0, guess - 1\n",
    "                    guesses_remaining -= 1\n",
    "                    print(f\"Oops! You've already guessed that letter. You have no warnings left so you lose one guess: {get_guessed_word(secret_word, letters_guessed)}\")\n",
    "            else: # not guessed\n",
    "                if letter_guess in secret_word: # in secret_word\n",
    "                    letters_guessed.append(letter_guess)\n",
    "                    print(f\"Good guess: {get_guessed_word(secret_word, letters_guessed)}\")\n",
    "                    if all(letter in letters_guessed for letter in secret_word): # the word is guessed, congratulations, end of game\n",
    "                        # 注意这俩可能不相等，因为letters_guessed里没有重复字母\n",
    "                        # if ''.join(letters_guessed) == secret_word 错\n",
    "                        print('Congratulations, you won!')\n",
    "                        print(f\"Your total score for this game is: {guesses_remaining * len(set(secret_word))}\")\n",
    "                        break\n",
    "                else: # not in secret_word\n",
    "                    letters_guessed.append(letter_guess)\n",
    "                    if letter_guess in 'aeiou': # vowels, guess - 2\n",
    "                        guesses_remaining -= 2\n",
    "                        print(f\"Oops! That letter is not in my word: {get_guessed_word(secret_word, letters_guessed)}\")\n",
    "                    else : # consonants, guess - 1\n",
    "                        guesses_remaining -= 1\n",
    "                        print(f\"Oops! That letter is not in my word: {get_guessed_word(secret_word, letters_guessed)}\")\n",
    "        print('------------')\n",
    "        print(f\"You have {guesses_remaining} guesses left.\")\n",
    "        print(f\"Available letters: {get_available_letters(letters_guessed)}\")\n",
    "    else: # guess < = 0, game over\n",
    "        print(f\"Sorry, you ran out of guesses. The word was {secret_word}.\")"
   ]
  },
  {
   "cell_type": "code",
   "execution_count": null,
   "id": "907fd9a3",
   "metadata": {},
   "outputs": [],
   "source": []
  },
  {
   "cell_type": "markdown",
   "id": "f8fa135c",
   "metadata": {
    "lines_to_next_cell": 2
   },
   "source": [
    "When you've completed your hangman_with_hint function, comment the two similar\n",
    "lines above that were used to run the hangman function, and then uncomment\n",
    "these two lines and run this file to test!\n",
    "Hint: You might want to pick your own secret_word while you're testing."
   ]
  },
  {
   "cell_type": "code",
   "execution_count": 82,
   "id": "7521e014",
   "metadata": {},
   "outputs": [
    {
     "name": "stdout",
     "output_type": "stream",
     "text": [
      "Welcome to the game Hangman!\n",
      "I am thinking of a word that is 9 letters long.\n",
      "-------------\n",
      "You have 6 guesses left.\n",
      "Available letters: abcdefghijklmnopqrstuvwxyz\n",
      "Please guess a letter: e\n",
      "Oops! That letter is not in my word: _ _ _ _ _ _ _ _ _\n",
      "------------\n",
      "You have 4 guesses left.\n",
      "Available letters: abcdfghijklmnopqrstuvwxyz\n",
      "Please guess a letter: a\n",
      "Good guess: _ _ _ _ _ _ a_ _\n",
      "------------\n",
      "You have 4 guesses left.\n",
      "Available letters: bcdfghijklmnopqrstuvwxyz\n",
      "Please guess a letter: s\n",
      "Good guess: _ _ _ _ _ _ a_ s\n",
      "------------\n",
      "You have 4 guesses left.\n",
      "Available letters: bcdfghijklmnopqrtuvwxyz\n",
      "Please guess a letter: o\n",
      "Good guess: _ _ _ o_ _ a_ s\n",
      "------------\n",
      "You have 4 guesses left.\n",
      "Available letters: bcdfghijklmnpqrtuvwxyz\n",
      "Please guess a letter: t\n",
      "Good guess: _ _ _ o_ ta_ s\n",
      "------------\n",
      "You have 4 guesses left.\n",
      "Available letters: bcdfghijklmnpqruvwxyz\n",
      "Please guess a letter: l\n",
      "Good guess: _ _ _ o_ tals\n",
      "------------\n",
      "You have 4 guesses left.\n",
      "Available letters: bcdfghijkmnpqruvwxyz\n",
      "Please guess a letter: n\n",
      "Oops! That letter is not in my word: _ _ _ o_ tals\n",
      "------------\n",
      "You have 3 guesses left.\n",
      "Available letters: bcdfghijkmpqruvwxyz\n",
      "Please guess a letter: b\n",
      "Oops! That letter is not in my word: _ _ _ o_ tals\n",
      "------------\n",
      "You have 2 guesses left.\n",
      "Available letters: cdfghijkmpqruvwxyz\n",
      "Please guess a letter: r\n",
      "Good guess: _ _ _ ortals\n",
      "------------\n",
      "You have 2 guesses left.\n",
      "Available letters: cdfghijkmpquvwxyz\n",
      "Please guess a letter: m\n",
      "Good guess: _ mmortals\n",
      "------------\n",
      "You have 2 guesses left.\n",
      "Available letters: cdfghijkpquvwxyz\n",
      "Please guess a letter: i\n",
      "Good guess: immortals\n",
      "------------\n",
      "You have 2 guesses left.\n",
      "Available letters: cdfghjkpquvwxyz\n"
     ]
    },
    {
     "ename": "KeyboardInterrupt",
     "evalue": "Interrupted by user",
     "output_type": "error",
     "traceback": [
      "\u001b[1;31m---------------------------------------------------------------------------\u001b[0m",
      "\u001b[1;31mKeyboardInterrupt\u001b[0m                         Traceback (most recent call last)",
      "Cell \u001b[1;32mIn[82], line 8\u001b[0m\n\u001b[0;32m      1\u001b[0m \u001b[38;5;28;01mif\u001b[39;00m \u001b[38;5;18m__name__\u001b[39m \u001b[38;5;241m==\u001b[39m \u001b[38;5;124m\"\u001b[39m\u001b[38;5;124m__main__\u001b[39m\u001b[38;5;124m\"\u001b[39m:\n\u001b[0;32m      2\u001b[0m     \u001b[38;5;66;03m# pass\u001b[39;00m\n\u001b[0;32m      3\u001b[0m \n\u001b[0;32m      4\u001b[0m     \u001b[38;5;66;03m# To test part 2, comment out the pass line above and\u001b[39;00m\n\u001b[0;32m      5\u001b[0m     \u001b[38;5;66;03m# uncomment the following two lines.\u001b[39;00m\n\u001b[0;32m      7\u001b[0m     secret_word \u001b[38;5;241m=\u001b[39m choose_word(wordlist)\n\u001b[1;32m----> 8\u001b[0m     \u001b[43mhangman\u001b[49m\u001b[43m(\u001b[49m\u001b[43msecret_word\u001b[49m\u001b[43m)\u001b[49m\n",
      "Cell \u001b[1;32mIn[81], line 42\u001b[0m, in \u001b[0;36mhangman\u001b[1;34m(secret_word)\u001b[0m\n\u001b[0;32m     40\u001b[0m \u001b[38;5;66;03m# Conditions and actions\u001b[39;00m\n\u001b[0;32m     41\u001b[0m \u001b[38;5;28;01mwhile\u001b[39;00m guesses_remaining \u001b[38;5;241m>\u001b[39m \u001b[38;5;241m0\u001b[39m: \u001b[38;5;66;03m# guess > 0\u001b[39;00m\n\u001b[1;32m---> 42\u001b[0m     letter_guess \u001b[38;5;241m=\u001b[39m \u001b[38;5;28mstr\u001b[39m(\u001b[38;5;28;43minput\u001b[39;49m\u001b[43m(\u001b[49m\u001b[38;5;124;43m'\u001b[39;49m\u001b[38;5;124;43mPlease guess a letter: \u001b[39;49m\u001b[38;5;124;43m'\u001b[39;49m\u001b[43m)\u001b[49m)\u001b[38;5;241m.\u001b[39mlower()\n\u001b[0;32m     43\u001b[0m     \u001b[38;5;28;01mif\u001b[39;00m \u001b[38;5;129;01mnot\u001b[39;00m \u001b[38;5;28mstr\u001b[39m\u001b[38;5;241m.\u001b[39misalpha(letter_guess): \u001b[38;5;66;03m# non letter\u001b[39;00m\n\u001b[0;32m     44\u001b[0m         \u001b[38;5;28;01mif\u001b[39;00m warnings_remaining \u001b[38;5;241m>\u001b[39m \u001b[38;5;241m0\u001b[39m: \u001b[38;5;66;03m# warning > 0, warning - 1, give error message\u001b[39;00m\n",
      "File \u001b[1;32m~\\anaconda3\\lib\\site-packages\\ipykernel\\kernelbase.py:1175\u001b[0m, in \u001b[0;36mKernel.raw_input\u001b[1;34m(self, prompt)\u001b[0m\n\u001b[0;32m   1171\u001b[0m \u001b[38;5;28;01mif\u001b[39;00m \u001b[38;5;129;01mnot\u001b[39;00m \u001b[38;5;28mself\u001b[39m\u001b[38;5;241m.\u001b[39m_allow_stdin:\n\u001b[0;32m   1172\u001b[0m     \u001b[38;5;28;01mraise\u001b[39;00m StdinNotImplementedError(\n\u001b[0;32m   1173\u001b[0m         \u001b[38;5;124m\"\u001b[39m\u001b[38;5;124mraw_input was called, but this frontend does not support input requests.\u001b[39m\u001b[38;5;124m\"\u001b[39m\n\u001b[0;32m   1174\u001b[0m     )\n\u001b[1;32m-> 1175\u001b[0m \u001b[38;5;28;01mreturn\u001b[39;00m \u001b[38;5;28;43mself\u001b[39;49m\u001b[38;5;241;43m.\u001b[39;49m\u001b[43m_input_request\u001b[49m\u001b[43m(\u001b[49m\n\u001b[0;32m   1176\u001b[0m \u001b[43m    \u001b[49m\u001b[38;5;28;43mstr\u001b[39;49m\u001b[43m(\u001b[49m\u001b[43mprompt\u001b[49m\u001b[43m)\u001b[49m\u001b[43m,\u001b[49m\n\u001b[0;32m   1177\u001b[0m \u001b[43m    \u001b[49m\u001b[38;5;28;43mself\u001b[39;49m\u001b[38;5;241;43m.\u001b[39;49m\u001b[43m_parent_ident\u001b[49m\u001b[43m[\u001b[49m\u001b[38;5;124;43m\"\u001b[39;49m\u001b[38;5;124;43mshell\u001b[39;49m\u001b[38;5;124;43m\"\u001b[39;49m\u001b[43m]\u001b[49m\u001b[43m,\u001b[49m\n\u001b[0;32m   1178\u001b[0m \u001b[43m    \u001b[49m\u001b[38;5;28;43mself\u001b[39;49m\u001b[38;5;241;43m.\u001b[39;49m\u001b[43mget_parent\u001b[49m\u001b[43m(\u001b[49m\u001b[38;5;124;43m\"\u001b[39;49m\u001b[38;5;124;43mshell\u001b[39;49m\u001b[38;5;124;43m\"\u001b[39;49m\u001b[43m)\u001b[49m\u001b[43m,\u001b[49m\n\u001b[0;32m   1179\u001b[0m \u001b[43m    \u001b[49m\u001b[43mpassword\u001b[49m\u001b[38;5;241;43m=\u001b[39;49m\u001b[38;5;28;43;01mFalse\u001b[39;49;00m\u001b[43m,\u001b[49m\n\u001b[0;32m   1180\u001b[0m \u001b[43m\u001b[49m\u001b[43m)\u001b[49m\n",
      "File \u001b[1;32m~\\anaconda3\\lib\\site-packages\\ipykernel\\kernelbase.py:1217\u001b[0m, in \u001b[0;36mKernel._input_request\u001b[1;34m(self, prompt, ident, parent, password)\u001b[0m\n\u001b[0;32m   1214\u001b[0m             \u001b[38;5;28;01mbreak\u001b[39;00m\n\u001b[0;32m   1215\u001b[0m \u001b[38;5;28;01mexcept\u001b[39;00m \u001b[38;5;167;01mKeyboardInterrupt\u001b[39;00m:\n\u001b[0;32m   1216\u001b[0m     \u001b[38;5;66;03m# re-raise KeyboardInterrupt, to truncate traceback\u001b[39;00m\n\u001b[1;32m-> 1217\u001b[0m     \u001b[38;5;28;01mraise\u001b[39;00m \u001b[38;5;167;01mKeyboardInterrupt\u001b[39;00m(\u001b[38;5;124m\"\u001b[39m\u001b[38;5;124mInterrupted by user\u001b[39m\u001b[38;5;124m\"\u001b[39m) \u001b[38;5;28;01mfrom\u001b[39;00m \u001b[38;5;28mNone\u001b[39m\n\u001b[0;32m   1218\u001b[0m \u001b[38;5;28;01mexcept\u001b[39;00m \u001b[38;5;167;01mException\u001b[39;00m:\n\u001b[0;32m   1219\u001b[0m     \u001b[38;5;28mself\u001b[39m\u001b[38;5;241m.\u001b[39mlog\u001b[38;5;241m.\u001b[39mwarning(\u001b[38;5;124m\"\u001b[39m\u001b[38;5;124mInvalid Message:\u001b[39m\u001b[38;5;124m\"\u001b[39m, exc_info\u001b[38;5;241m=\u001b[39m\u001b[38;5;28;01mTrue\u001b[39;00m)\n",
      "\u001b[1;31mKeyboardInterrupt\u001b[0m: Interrupted by user"
     ]
    }
   ],
   "source": [
    "if __name__ == \"__main__\":\n",
    "    # pass\n",
    "\n",
    "    # To test part 2, comment out the pass line above and\n",
    "    # uncomment the following two lines.\n",
    "    \n",
    "    secret_word = choose_word(wordlist)\n",
    "    hangman(secret_word)"
   ]
  },
  {
   "cell_type": "markdown",
   "id": "e2e68649",
   "metadata": {},
   "source": [
    "##############"
   ]
  },
  {
   "cell_type": "code",
   "execution_count": 67,
   "id": "4e4cc086",
   "metadata": {},
   "outputs": [
    {
     "name": "stdout",
     "output_type": "stream",
     "text": [
      "Welcome to the game Hangman!\n",
      "I am thinking of a word that is 8 letters long.\n",
      "-------------\n",
      "You have 6 guesses left.\n",
      "Available letters: abcdefghijklmnopqrstuvwxyz\n",
      "Please guess a letter: e\n",
      "Oops! That letter is not in my word: _ _ _ _ _ _ _ _\n",
      "------------\n",
      "You have 4 guesses left.\n",
      "Available letters: abcdfghijklmnopqrstuvwxyz\n",
      "Please guess a letter: o\n",
      "Good guess: _ _ _ _ _ o_ _\n",
      "------------\n",
      "You have 4 guesses left.\n",
      "Available letters: abcdfghijklmnpqrstuvwxyz\n",
      "Please guess a letter: a\n",
      "Good guess: _ a_ a_ o_ _\n",
      "------------\n",
      "You have 4 guesses left.\n",
      "Available letters: bcdfghijklmnpqrstuvwxyz\n",
      "Please guess a letter: *\n",
      "caracole catacomb catalogs gadabout lavatory macaroni marabous matadors paragons paramour paranoid parasols vagabond\n",
      "------------\n",
      "You have 4 guesses left.\n",
      "Available letters: bcdfghijklmnpqrstuvwxyz\n",
      "Please guess a letter: r\n",
      "Oops! That letter is not in my word: _ a_ a_ o_ _\n",
      "------------\n",
      "You have 3 guesses left.\n",
      "Available letters: bcdfghijklmnpqstuvwxyz\n",
      "Please guess a letter: t\n",
      "Good guess: _ ata_ o_ _\n",
      "------------\n",
      "You have 3 guesses left.\n",
      "Available letters: bcdfghijklmnpqsuvwxyz\n",
      "Please guess a letter: *\n",
      "catacomb catalogs matadors\n",
      "------------\n",
      "You have 3 guesses left.\n",
      "Available letters: bcdfghijklmnpqsuvwxyz\n",
      "Please guess a letter: c\n",
      "Good guess: cata_ o_ _\n",
      "------------\n",
      "You have 3 guesses left.\n",
      "Available letters: bdfghijklmnpqsuvwxyz\n",
      "Please guess a letter: g\n",
      "Good guess: cata_ og_\n",
      "------------\n",
      "You have 3 guesses left.\n",
      "Available letters: bdfhijklmnpqsuvwxyz\n",
      "Please guess a letter: s\n",
      "Good guess: cata_ ogs\n",
      "------------\n",
      "You have 3 guesses left.\n",
      "Available letters: bdfhijklmnpquvwxyz\n",
      "Please guess a letter: l\n",
      "Good guess: catalogs\n",
      "Congratulations, you won!\n",
      "Your total score for this game is: 21\n"
     ]
    }
   ],
   "source": [
    "    # To test part 3 re-comment out the above lines and \n",
    "    # uncomment the following two lines. \n",
    "    \n",
    "secret_word = choose_word(wordlist)\n",
    "hangman_with_hints(secret_word)"
   ]
  },
  {
   "cell_type": "code",
   "execution_count": null,
   "id": "795d7bee",
   "metadata": {},
   "outputs": [],
   "source": []
  }
 ],
 "metadata": {
  "jupytext": {
   "cell_metadata_filter": "-all",
   "main_language": "python",
   "notebook_metadata_filter": "-all"
  },
  "kernelspec": {
   "display_name": "Python 3 (ipykernel)",
   "language": "python",
   "name": "python3"
  },
  "language_info": {
   "codemirror_mode": {
    "name": "ipython",
    "version": 3
   },
   "file_extension": ".py",
   "mimetype": "text/x-python",
   "name": "python",
   "nbconvert_exporter": "python",
   "pygments_lexer": "ipython3",
   "version": "3.10.9"
  }
 },
 "nbformat": 4,
 "nbformat_minor": 5
}
