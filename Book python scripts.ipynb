{
 "cells": [
  {
   "cell_type": "markdown",
   "id": "41d14d1b",
   "metadata": {},
   "source": [
    "## 3.1 Exhaustive enumeration"
   ]
  },
  {
   "cell_type": "code",
   "execution_count": 12,
   "id": "dc28b727",
   "metadata": {},
   "outputs": [
    {
     "name": "stdout",
     "output_type": "stream",
     "text": [
      "Enter an interger: 7406961012236344616\n",
      "Cube root of 7406961012236344616 is 1949306\n"
     ]
    }
   ],
   "source": [
    "x = int(input('Enter an interger: '))\n",
    "ans = 0\n",
    "while ans**3 < abs(x):\n",
    "    ans = ans + 1\n",
    "if ans**3 != abs(x):\n",
    "    print(x, 'is not a perfect cube')\n",
    "else:\n",
    "    if x < 0:\n",
    "        ans = -ans\n",
    "    print('Cube root of',x,'is',ans)"
   ]
  },
  {
   "cell_type": "markdown",
   "id": "cc17ab9b",
   "metadata": {},
   "source": [
    "## 3.2 For loops"
   ]
  },
  {
   "cell_type": "code",
   "execution_count": 14,
   "id": "07c86112",
   "metadata": {},
   "outputs": [
    {
     "name": "stdout",
     "output_type": "stream",
     "text": [
      "0\n",
      "1\n",
      "2\n",
      "3\n"
     ]
    }
   ],
   "source": [
    "x = 4\n",
    "for i in range(0,x):\n",
    "    print(i)"
   ]
  },
  {
   "cell_type": "code",
   "execution_count": 17,
   "id": "edb1ce9e",
   "metadata": {},
   "outputs": [
    {
     "name": "stdout",
     "output_type": "stream",
     "text": [
      "1\n",
      "2\n"
     ]
    }
   ],
   "source": [
    "print(2-1)\n",
    "print(2)"
   ]
  },
  {
   "cell_type": "markdown",
   "id": "6e049c08",
   "metadata": {},
   "source": [
    "## 3.3 Approximate solutions and bisection search"
   ]
  },
  {
   "cell_type": "code",
   "execution_count": 20,
   "id": "b44eac58",
   "metadata": {},
   "outputs": [
    {
     "name": "stdout",
     "output_type": "stream",
     "text": [
      "numGuesses =  49990\n",
      "4.999000000001688 is close to square root of 25\n"
     ]
    }
   ],
   "source": [
    "x = 25\n",
    "epsilon = 0.01\n",
    "step = epsilon ** 2\n",
    "numGuesses = 0\n",
    "ans = 0.0\n",
    "while abs(ans**2 - x) >= epsilon and ans <= x:\n",
    "    ans += step\n",
    "    numGuesses += 1\n",
    "print('numGuesses = ', numGuesses)\n",
    "if abs(ans**2 - x) >= epsilon:\n",
    "    print('Failed on square root of ', x)\n",
    "else:\n",
    "    print(ans, 'is close to square root of', x)"
   ]
  },
  {
   "cell_type": "code",
   "execution_count": 23,
   "id": "1f7494b3",
   "metadata": {},
   "outputs": [
    {
     "name": "stdout",
     "output_type": "stream",
     "text": [
      "common letter:  m\n",
      "common letter:  i\n",
      "common letter:  t\n",
      "common letter:  u\n",
      "common letter:   \n",
      "common letter:  r\n"
     ]
    }
   ],
   "source": [
    "# In-lecture exercise\n",
    "s1 = \"mitu rock\"\n",
    "s2 = \"irule mit\"\n",
    "if len(s1) == len(s2):\n",
    "    for char1 in s1:\n",
    "        for char2 in s2:\n",
    "            if char1 == char2:\n",
    "                print(\"common letter: \",char1)\n",
    "                break"
   ]
  },
  {
   "cell_type": "code",
   "execution_count": 38,
   "id": "1d8f10ed",
   "metadata": {},
   "outputs": [
    {
     "name": "stdout",
     "output_type": "stream",
     "text": [
      "no perfect cube\n"
     ]
    }
   ],
   "source": [
    "cube = -29\n",
    "for guess in range(abs(cube)+1):\n",
    "    if guess**3 >= abs(cube):\n",
    "        break\n",
    "if guess**3 == abs(cube):\n",
    "    if cube < 0:\n",
    "        guess = -guess\n",
    "    print(guess, 'is the answer')\n",
    "else:\n",
    "    print('no perfect cube')"
   ]
  },
  {
   "cell_type": "code",
   "execution_count": 39,
   "id": "02be681c",
   "metadata": {},
   "outputs": [
    {
     "name": "stdout",
     "output_type": "stream",
     "text": [
      "26 100\n"
     ]
    }
   ],
   "source": [
    "s = \"6.00 is 6.0001 and 6.0002\"\n",
    "new_str = \"\"\n",
    "new_str += s[-1]\n",
    "new_str += s[0]\n",
    "new_str += s[4::30] \n",
    "new_str += s[13:10:-1]\n",
    "print(new_str)"
   ]
  },
  {
   "cell_type": "code",
   "execution_count": 41,
   "id": "ebabc018",
   "metadata": {},
   "outputs": [
    {
     "name": "stdout",
     "output_type": "stream",
     "text": [
      " \n"
     ]
    }
   ],
   "source": [
    "s = \"6.00 is 6.0001 and 6.0002\"\n",
    "print(s[4::30])"
   ]
  },
  {
   "cell_type": "markdown",
   "id": "2436b188",
   "metadata": {},
   "source": [
    "## Problem set 1"
   ]
  },
  {
   "cell_type": "code",
   "execution_count": 44,
   "id": "c1cbd949",
   "metadata": {},
   "outputs": [
    {
     "name": "stdout",
     "output_type": "stream",
     "text": [
      "Enter your annual salary80000\n",
      "Enter the portion of salary to be saved, as decimal.15\n",
      "Enter the total cost of your dream home500000\n",
      "105\n"
     ]
    }
   ],
   "source": [
    "## Part A: House Hunting\n",
    "portion_down_payment = .25\n",
    "current_savings = 0\n",
    "r = 0.04\n",
    "annual_salary = float(input('Enter your annual salary'))\n",
    "portion_saved = float(input('Enter the portion of salary to be saved, as decimal'))\n",
    "total_cost = float(input('Enter the total cost of your dream home'))\n",
    "month = 0\n",
    "while current_savings < total_cost * portion_down_payment:\n",
    "    month += 1\n",
    "    current_savings += annual_salary/12*portion_saved + current_savings*r/12\n",
    "print(month)"
   ]
  },
  {
   "cell_type": "code",
   "execution_count": 46,
   "id": "e069ebaa",
   "metadata": {},
   "outputs": [
    {
     "name": "stdout",
     "output_type": "stream",
     "text": [
      "Enter your annual salary75000\n",
      "Enter the portion of salary to be saved, as decimal.05\n",
      "Enter the total cost of your dream home1500000\n",
      "Enter a semi-annual salary raise, as decimal.05\n",
      "261\n"
     ]
    }
   ],
   "source": [
    "## Part B: Saving, with a raise\n",
    "portion_down_payment = .25\n",
    "current_savings = 0\n",
    "r = 0.04\n",
    "annual_salary = float(input('Enter your annual salary'))\n",
    "portion_saved = float(input('Enter the portion of salary to be saved, as decimal'))\n",
    "total_cost = float(input('Enter the total cost of your dream home'))\n",
    "semi_annual_raise = float(input('Enter a semi-annual salary raise, as decimal'))\n",
    "month = 0\n",
    "while current_savings < total_cost * portion_down_payment:\n",
    "    month += 1\n",
    "    current_savings += annual_salary/12*portion_saved + current_savings*r/12\n",
    "    if month % 6 == 0:\n",
    "        annual_salary *= (1 + semi_annual_raise)\n",
    "print(month)"
   ]
  },
  {
   "cell_type": "code",
   "execution_count": 52,
   "id": "06aff9d8",
   "metadata": {},
   "outputs": [
    {
     "name": "stdout",
     "output_type": "stream",
     "text": [
      "Enter your annual salary:300000\n",
      "\n",
      "Best savings rate:0.2204\n",
      "steps in:12\n"
     ]
    }
   ],
   "source": [
    "## Part C: Finding the right amount to save money\n",
    "# fixed data\n",
    "base_annual_salary = float(input('Enter your annual salary:'))\n",
    "\n",
    "total_cost = 1000000\n",
    "percent_down_payment = .25\n",
    "monthly_r = .04/12\n",
    "semi_annual_raise = .07\n",
    "down_payment = total_cost * percent_down_payment\n",
    "months = 36\n",
    "\n",
    "# margin\n",
    "epsilon = 100\n",
    "\n",
    "# set bounds of bisection search\n",
    "low = 0\n",
    "initial_high = 10000\n",
    "high = initial_high\n",
    "\n",
    "# initiate values used in the while loop\n",
    "current_savings = 0\n",
    "step = 0 # step in bisection search\n",
    "portion_saved = (high + low) // 2\n",
    "\n",
    "# bisection search: while loop\n",
    "while abs(current_savings - down_payment) > epsilon:\n",
    "    # initiate values at the beginning of the current loop\n",
    "    step += 1\n",
    "    current_savings = 0\n",
    "    annual_salary = base_annual_salary\n",
    "    monthly_salary = annual_salary / 12\n",
    "    monthly_deposit = monthly_salary * (portion_saved / 10000)\n",
    "    \n",
    "    # use a for loop to calculate monthly contribute to the down payment\n",
    "    for month in range(1, months + 1):\n",
    "        current_savings += (current_savings * monthly_r)\n",
    "        current_savings += monthly_deposit\n",
    "        if month % 6 == 0:\n",
    "            annual_salary += (annual_salary * semi_annual_raise)\n",
    "            monthly_salary = annual_salary / 12\n",
    "            monthly_deposit = monthly_salary * (portion_saved / 10000)\n",
    "    \n",
    "    # assign portion_saved to a different prev_portion_saved\n",
    "    prev_portion_saved = portion_saved\n",
    "    if current_savings < down_payment:\n",
    "        low = portion_saved\n",
    "    else:\n",
    "        high = portion_saved\n",
    "    \n",
    "    # use new bounds to calculate new saving portion\n",
    "    portion_saved = int(round((high + low)/2))\n",
    "    if prev_portion_saved == portion_saved:\n",
    "        break\n",
    "\n",
    "print()\n",
    "\n",
    "if portion_saved == initial_high:\n",
    "    print(\"Not possible to save enough money in 36 months.\")\n",
    "else:\n",
    "    print('Best savings rate:{}'.format(portion_saved/10000))\n",
    "    print('steps in:{}'.format(step))\n",
    "\n"
   ]
  },
  {
   "cell_type": "code",
   "execution_count": 54,
   "id": "456123ad",
   "metadata": {},
   "outputs": [
    {
     "name": "stdout",
     "output_type": "stream",
     "text": [
      "5\n"
     ]
    }
   ],
   "source": [
    "high = 10\n",
    "low = 1\n",
    "print((high + low)//2)"
   ]
  },
  {
   "cell_type": "markdown",
   "id": "f1ccae2d",
   "metadata": {},
   "source": [
    "## Lecture 4"
   ]
  },
  {
   "cell_type": "code",
   "execution_count": 56,
   "id": "3f272a30",
   "metadata": {},
   "outputs": [
    {
     "name": "stdout",
     "output_type": "stream",
     "text": [
      "inside is_even\n"
     ]
    },
    {
     "data": {
      "text/plain": [
       "True"
      ]
     },
     "execution_count": 56,
     "metadata": {},
     "output_type": "execute_result"
    }
   ],
   "source": [
    "## Function example\n",
    "def is_even(i):\n",
    "    \"\"\"\n",
    "    Input: i, a positive int\n",
    "    Returns True if i is even, otherwise False\n",
    "    \"\"\"\n",
    "    print(\"inside is_even\")\n",
    "    return i%2 == 0\n",
    "\n",
    "is_even(4)"
   ]
  },
  {
   "cell_type": "code",
   "execution_count": 61,
   "id": "c3b04fe0",
   "metadata": {},
   "outputs": [],
   "source": [
    "# Function as object\n",
    "def func_a():\n",
    "    return 3.14\n",
    "def func_c(x):\n",
    "    return x()\n",
    "\n",
    "print(func_c(func_a))"
   ]
  },
  {
   "cell_type": "code",
   "execution_count": 65,
   "id": "5ee7601e",
   "metadata": {},
   "outputs": [
    {
     "name": "stdout",
     "output_type": "stream",
     "text": [
      "2\n",
      "5\n"
     ]
    }
   ],
   "source": [
    "def f(y):\n",
    "    x = 1\n",
    "    x +=1\n",
    "    print(x)\n",
    "\n",
    "x = 5\n",
    "f(x)\n",
    "print(x)"
   ]
  },
  {
   "cell_type": "code",
   "execution_count": 66,
   "id": "fa734b85",
   "metadata": {},
   "outputs": [
    {
     "name": "stdout",
     "output_type": "stream",
     "text": [
      "5\n",
      "6\n",
      "5\n"
     ]
    }
   ],
   "source": [
    "def g(y):\n",
    "    print(x)\n",
    "    print(x + 1)\n",
    "\n",
    "x = 5\n",
    "g(x)\n",
    "print(x)"
   ]
  },
  {
   "cell_type": "code",
   "execution_count": 69,
   "id": "682297bf",
   "metadata": {},
   "outputs": [
    {
     "name": "stdout",
     "output_type": "stream",
     "text": [
      "g: x =  4\n"
     ]
    }
   ],
   "source": [
    "# nested function\n",
    "def g(x):\n",
    "    def h():\n",
    "        x = 'abc' # here only defining the function, not calling it\n",
    "    x = x + 1\n",
    "    print('g: x = ', x)\n",
    "    h()\n",
    "    return x\n",
    "\n",
    "x = 3\n",
    "z = g(x)"
   ]
  },
  {
   "cell_type": "code",
   "execution_count": 68,
   "id": "ec90d289",
   "metadata": {},
   "outputs": [
    {
     "name": "stdout",
     "output_type": "stream",
     "text": [
      "3\n"
     ]
    }
   ],
   "source": [
    "print(x)"
   ]
  },
  {
   "cell_type": "code",
   "execution_count": 70,
   "id": "48aabd88",
   "metadata": {},
   "outputs": [
    {
     "name": "stdout",
     "output_type": "stream",
     "text": [
      "4\n"
     ]
    }
   ],
   "source": [
    "print(z)"
   ]
  },
  {
   "cell_type": "code",
   "execution_count": 71,
   "id": "f6546b07",
   "metadata": {},
   "outputs": [
    {
     "name": "stdout",
     "output_type": "stream",
     "text": [
      "5\n",
      "12\n",
      "20\n",
      "None\n"
     ]
    }
   ],
   "source": [
    "def add(x, y):\n",
    " return x+y\n",
    "\n",
    "def mult(x, y):\n",
    " print(x*y)\n",
    "\n",
    "add(1,2)\n",
    "print(add(2,3))\n",
    "mult(3,4)\n",
    "print(mult(4,5))"
   ]
  },
  {
   "cell_type": "code",
   "execution_count": 81,
   "id": "c43df6d6",
   "metadata": {},
   "outputs": [
    {
     "name": "stdout",
     "output_type": "stream",
     "text": [
      "4\n"
     ]
    }
   ],
   "source": [
    "def sq(func, x):\n",
    "    y = x**2\n",
    "    return y\n",
    "\n",
    "def f(x):\n",
    "    return x**2\n",
    "\n",
    "calc = sq(f, 2)\n",
    "print(calc)"
   ]
  },
  {
   "cell_type": "code",
   "execution_count": 79,
   "id": "749f0ac0",
   "metadata": {},
   "outputs": [
    {
     "name": "stdout",
     "output_type": "stream",
     "text": [
      "64\n"
     ]
    }
   ],
   "source": [
    "def sq(func, x):\n",
    "    y = x**2\n",
    "    return func(y)\n",
    "\n",
    "def g(x):\n",
    "    return x**3\n",
    "\n",
    "calc = sq(g, 2)\n",
    "print(calc)"
   ]
  },
  {
   "cell_type": "code",
   "execution_count": 82,
   "id": "51ca2b77",
   "metadata": {},
   "outputs": [],
   "source": [
    "# Use tuples to return more than one value from a function\n",
    "def quotient_and_remainder(x, y):\n",
    "    q = x // y\n",
    "    r = x % y\n",
    "    return(q, r)"
   ]
  },
  {
   "cell_type": "code",
   "execution_count": 83,
   "id": "3b6047fa",
   "metadata": {},
   "outputs": [],
   "source": [
    "(tuple1, tuple2) = quotient_and_remainder(4,5)"
   ]
  },
  {
   "cell_type": "code",
   "execution_count": 84,
   "id": "64660a27",
   "metadata": {},
   "outputs": [
    {
     "name": "stdout",
     "output_type": "stream",
     "text": [
      "(0, 4)\n"
     ]
    }
   ],
   "source": [
    "print((tuple1, tuple2))"
   ]
  },
  {
   "cell_type": "code",
   "execution_count": 87,
   "id": "aae6256c",
   "metadata": {},
   "outputs": [
    {
     "name": "stdout",
     "output_type": "stream",
     "text": [
      "(2014, 2014, 2010) 2010 2014 3\n"
     ]
    }
   ],
   "source": [
    "# iterate over tuples\n",
    "# aTuple: ((int, string), (int, string), ...)\n",
    "def get_data(aTuple):\n",
    "    nums= ()\n",
    "    words = ()\n",
    "    for t in aTuple:\n",
    "        nums= nums+ (t[0],)\n",
    "        if t[1] not in words:\n",
    "            words = words + (t[1],)\n",
    "    min_n= min(nums)\n",
    "    max_n= max(nums)\n",
    "    unique_words= len(words)\n",
    "    return (nums, min_n, max_n, unique_words)\n",
    "tswift = ((2014, \"katy\"),\n",
    "         (2014, \"harry\"),\n",
    "         (2010, \"joe\"))\n",
    "(nums, min_year, max_year, num_people) = get_data(tswift)\n",
    "print(nums, min_year, max_year, num_people)"
   ]
  },
  {
   "cell_type": "code",
   "execution_count": 88,
   "id": "7d6fffa0",
   "metadata": {},
   "outputs": [
    {
     "name": "stdout",
     "output_type": "stream",
     "text": [
      "['red', 'yellow', 'pink']\n"
     ]
    }
   ],
   "source": [
    "# alias 改变一个，改变所有\n",
    "warm = ['red', 'yellow']\n",
    "hot = warm\n",
    "hot.append('pink')\n",
    "print(warm)"
   ]
  },
  {
   "cell_type": "code",
   "execution_count": 94,
   "id": "38bab367",
   "metadata": {},
   "outputs": [
    {
     "name": "stdout",
     "output_type": "stream",
     "text": [
      "['orange', 'red', 'yellow']\n",
      "None\n"
     ]
    }
   ],
   "source": [
    "# sort vs sorted\n",
    "# sort() mutates the list, returns nothing\n",
    "# sorted() does not mutate list, must assign result to a variable\n",
    "warm = ['red', 'yellow', 'orange']\n",
    "sortedwarm = warm.sort()\n",
    "print(warm)\n",
    "print(sortedwarm)"
   ]
  },
  {
   "cell_type": "code",
   "execution_count": 93,
   "id": "bbd4fe64",
   "metadata": {},
   "outputs": [
    {
     "name": "stdout",
     "output_type": "stream",
     "text": [
      "['red', 'yellow', 'orange']\n",
      "['orange', 'red', 'yellow']\n"
     ]
    }
   ],
   "source": [
    "warm = ['red', 'yellow', 'orange']\n",
    "sortedwarm = sorted(warm)\n",
    "print(warm)\n",
    "print(sortedwarm)"
   ]
  },
  {
   "cell_type": "code",
   "execution_count": 99,
   "id": "9147bd4d",
   "metadata": {},
   "outputs": [
    {
     "data": {
      "text/plain": [
       "'c'"
      ]
     },
     "execution_count": 99,
     "metadata": {},
     "output_type": "execute_result"
    }
   ],
   "source": [
    "('cloudy')[0]"
   ]
  },
  {
   "cell_type": "code",
   "execution_count": 98,
   "id": "30e6a89a",
   "metadata": {},
   "outputs": [
    {
     "data": {
      "text/plain": [
       "'cloudy'"
      ]
     },
     "execution_count": 98,
     "metadata": {},
     "output_type": "execute_result"
    }
   ],
   "source": [
    "('cloudy',)[0]"
   ]
  },
  {
   "cell_type": "code",
   "execution_count": 100,
   "id": "f02ac679",
   "metadata": {},
   "outputs": [],
   "source": [
    "L1 = ['re']\n",
    "L2 = ['mi']\n",
    "L3 = ['do']\n",
    "L4 = L1 + L2\n",
    "L3.extend(L4)"
   ]
  },
  {
   "cell_type": "code",
   "execution_count": 101,
   "id": "306850d8",
   "metadata": {},
   "outputs": [
    {
     "name": "stdout",
     "output_type": "stream",
     "text": [
      "['do', 're', 'mi']\n"
     ]
    }
   ],
   "source": [
    "print(L3)"
   ]
  },
  {
   "cell_type": "markdown",
   "id": "28075b56",
   "metadata": {},
   "source": [
    "## Lecture 6"
   ]
  },
  {
   "cell_type": "code",
   "execution_count": 102,
   "id": "ca21573f",
   "metadata": {},
   "outputs": [
    {
     "name": "stdout",
     "output_type": "stream",
     "text": [
      "13\n"
     ]
    }
   ],
   "source": [
    "# Recursion and Dictionary\n",
    "def fib_efficient(n, d): \n",
    "    if n in d:\n",
    "        return d[n] \n",
    "    else:\n",
    "        ans = fib_efficient(n-1, d) + fib_efficient(n-2, d)\n",
    "        d[n] = ans\n",
    "        return ans\n",
    "\n",
    "d = {1:1, 2:2}\n",
    "print(fib_efficient(6, d))"
   ]
  },
  {
   "cell_type": "markdown",
   "id": "6fc63c4b",
   "metadata": {},
   "source": [
    "## Problem set 2"
   ]
  },
  {
   "cell_type": "code",
   "execution_count": null,
   "id": "437fb16e",
   "metadata": {},
   "outputs": [],
   "source": []
  }
 ],
 "metadata": {
  "kernelspec": {
   "display_name": "Python 3 (ipykernel)",
   "language": "python",
   "name": "python3"
  },
  "language_info": {
   "codemirror_mode": {
    "name": "ipython",
    "version": 3
   },
   "file_extension": ".py",
   "mimetype": "text/x-python",
   "name": "python",
   "nbconvert_exporter": "python",
   "pygments_lexer": "ipython3",
   "version": "3.10.9"
  }
 },
 "nbformat": 4,
 "nbformat_minor": 5
}
