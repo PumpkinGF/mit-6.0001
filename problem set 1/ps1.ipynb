{
 "cells": [
  {
   "cell_type": "markdown",
   "id": "2436b188",
   "metadata": {},
   "source": [
    "## Problem set 1"
   ]
  },
  {
   "cell_type": "code",
   "execution_count": 44,
   "id": "c1cbd949",
   "metadata": {},
   "outputs": [
    {
     "name": "stdout",
     "output_type": "stream",
     "text": [
      "Enter your annual salary80000\n",
      "Enter the portion of salary to be saved, as decimal.15\n",
      "Enter the total cost of your dream home500000\n",
      "105\n"
     ]
    }
   ],
   "source": [
    "## Part A: House Hunting\n",
    "portion_down_payment = .25\n",
    "current_savings = 0\n",
    "r = 0.04\n",
    "annual_salary = float(input('Enter your annual salary'))\n",
    "portion_saved = float(input('Enter the portion of salary to be saved, as decimal'))\n",
    "total_cost = float(input('Enter the total cost of your dream home'))\n",
    "month = 0\n",
    "while current_savings < total_cost * portion_down_payment:\n",
    "    month += 1\n",
    "    current_savings += annual_salary/12*portion_saved + current_savings*r/12\n",
    "print(month)"
   ]
  },
  {
   "cell_type": "code",
   "execution_count": 46,
   "id": "e069ebaa",
   "metadata": {},
   "outputs": [
    {
     "name": "stdout",
     "output_type": "stream",
     "text": [
      "Enter your annual salary75000\n",
      "Enter the portion of salary to be saved, as decimal.05\n",
      "Enter the total cost of your dream home1500000\n",
      "Enter a semi-annual salary raise, as decimal.05\n",
      "261\n"
     ]
    }
   ],
   "source": [
    "## Part B: Saving, with a raise\n",
    "portion_down_payment = .25\n",
    "current_savings = 0\n",
    "r = 0.04\n",
    "annual_salary = float(input('Enter your annual salary'))\n",
    "portion_saved = float(input('Enter the portion of salary to be saved, as decimal'))\n",
    "total_cost = float(input('Enter the total cost of your dream home'))\n",
    "semi_annual_raise = float(input('Enter a semi-annual salary raise, as decimal'))\n",
    "month = 0\n",
    "while current_savings < total_cost * portion_down_payment:\n",
    "    month += 1\n",
    "    current_savings += annual_salary/12*portion_saved + current_savings*r/12\n",
    "    if month % 6 == 0:\n",
    "        annual_salary *= (1 + semi_annual_raise)\n",
    "print(month)"
   ]
  },
  {
   "cell_type": "code",
   "execution_count": 52,
   "id": "06aff9d8",
   "metadata": {},
   "outputs": [
    {
     "name": "stdout",
     "output_type": "stream",
     "text": [
      "Enter your annual salary:300000\n",
      "\n",
      "Best savings rate:0.2204\n",
      "steps in:12\n"
     ]
    }
   ],
   "source": [
    "## Part C: Finding the right amount to save money\n",
    "# fixed data\n",
    "base_annual_salary = float(input('Enter your annual salary:'))\n",
    "\n",
    "total_cost = 1000000\n",
    "percent_down_payment = .25\n",
    "monthly_r = .04/12\n",
    "semi_annual_raise = .07\n",
    "down_payment = total_cost * percent_down_payment\n",
    "months = 36\n",
    "\n",
    "# margin\n",
    "epsilon = 100\n",
    "\n",
    "# set bounds of bisection search\n",
    "low = 0\n",
    "initial_high = 10000\n",
    "high = initial_high\n",
    "\n",
    "# initiate values used in the while loop\n",
    "current_savings = 0\n",
    "step = 0 # step in bisection search\n",
    "portion_saved = (high + low) // 2\n",
    "\n",
    "# bisection search: while loop\n",
    "while abs(current_savings - down_payment) > epsilon:\n",
    "    # initiate values at the beginning of the current loop\n",
    "    step += 1\n",
    "    current_savings = 0\n",
    "    annual_salary = base_annual_salary\n",
    "    monthly_salary = annual_salary / 12\n",
    "    monthly_deposit = monthly_salary * (portion_saved / 10000)\n",
    "    \n",
    "    # use a for loop to calculate monthly contribute to the down payment\n",
    "    for month in range(1, months + 1):\n",
    "        current_savings += (current_savings * monthly_r)\n",
    "        current_savings += monthly_deposit\n",
    "        if month % 6 == 0:\n",
    "            annual_salary += (annual_salary * semi_annual_raise)\n",
    "            monthly_salary = annual_salary / 12\n",
    "            monthly_deposit = monthly_salary * (portion_saved / 10000)\n",
    "    \n",
    "    # assign portion_saved to a different prev_portion_saved\n",
    "    prev_portion_saved = portion_saved\n",
    "    if current_savings < down_payment:\n",
    "        low = portion_saved\n",
    "    else:\n",
    "        high = portion_saved\n",
    "    \n",
    "    # use new bounds to calculate new saving portion\n",
    "    portion_saved = int(round((high + low)/2))\n",
    "    if prev_portion_saved == portion_saved:\n",
    "        break\n",
    "\n",
    "print()\n",
    "\n",
    "if portion_saved == initial_high:\n",
    "    print(\"Not possible to save enough money in 36 months.\")\n",
    "else:\n",
    "    print('Best savings rate:{}'.format(portion_saved/10000))\n",
    "    print('steps in:{}'.format(step))\n",
    "\n"
   ]
  }
 ],
 "metadata": {
  "kernelspec": {
   "display_name": "Python 3 (ipykernel)",
   "language": "python",
   "name": "python3"
  },
  "language_info": {
   "codemirror_mode": {
    "name": "ipython",
    "version": 3
   },
   "file_extension": ".py",
   "mimetype": "text/x-python",
   "name": "python",
   "nbconvert_exporter": "python",
   "pygments_lexer": "ipython3",
   "version": "3.10.9"
  }
 },
 "nbformat": 4,
 "nbformat_minor": 5
}
